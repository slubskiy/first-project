{
 "cells": [
  {
   "cell_type": "code",
   "execution_count": 6,
   "id": "fdbf12ad-438d-4fa9-b469-c7f86bae67b4",
   "metadata": {},
   "outputs": [
    {
     "name": "stdout",
     "output_type": "stream",
     "text": [
      "  children,days_employed,dob_years,education,education_id,family_status,family_status_id,gender,income_type,debt,total_income,purpose\n",
      "0  1,-8437.673027760233,42,высшее,0,женат / замуж...                                                                                 \n",
      "1  1,-4024.803753850451,36,среднее,1,женат / заму...                                                                                 \n",
      "2  0,-5623.422610230956,33,Среднее,1,женат / заму...                                                                                 \n",
      "3  3,-4124.747206540018,32,среднее,1,женат / заму...                                                                                 \n",
      "4  0,340266.07204682194,53,среднее,1,гражданский ...                                                                                 \n",
      "5  0,-926.1858308789183,27,высшее,0,гражданский б...                                                                                 \n",
      "6  0,-2879.202052139952,43,высшее,0,женат / замуж...                                                                                 \n",
      "7  0,-152.7795691752705,50,СРЕДНЕЕ,1,женат / заму...                                                                                 \n",
      "8  2,-6929.865298973741,35,ВЫСШЕЕ,0,гражданский б...                                                                                 \n",
      "9  0,-2188.7564450779378,41,среднее,1,женат / зам...                                                                                 \n"
     ]
    }
   ],
   "source": [
    "import pandas as pd #импортируем библиотеку pandas\n",
    "data = pd.read_csv(r\"C:\\Users\\evgen\\first-project\\data.csv\", sep = '\\t') #открываем датасет, указываем разделитель\n",
    "print(data.head(10)) #выводим датасэт на экран для ознакомления\n"
   ]
  },
  {
   "cell_type": "code",
   "execution_count": null,
   "id": "ed310ec5-f0b9-4639-80eb-f8dd4dad212f",
   "metadata": {},
   "outputs": [],
   "source": []
  },
  {
   "cell_type": "code",
   "execution_count": null,
   "id": "c4fb6904-5593-4d3a-a46f-a221f664f5ac",
   "metadata": {},
   "outputs": [],
   "source": [
    "data[\"living_area\"].hist()\n",
    "data[\"living_area\"].describe()\n",
    "print(data.loc[data[\"living_area\"] > 200])"
   ]
  },
  {
   "cell_type": "code",
   "execution_count": null,
   "id": "0280f1f8-1826-4688-8f02-ea96bf04d8cb",
   "metadata": {},
   "outputs": [],
   "source": [
    "import matplotlib.pyplot as plt"
   ]
  },
  {
   "cell_type": "code",
   "execution_count": null,
   "id": "09a4625c-67f0-4d26-b754-4badadf83b25",
   "metadata": {},
   "outputs": [],
   "source": [
    "data.boxplot(\"living_area\")"
   ]
  },
  {
   "cell_type": "code",
   "execution_count": null,
   "id": "261d6a76-c41f-4d18-9b71-922dccdb1554",
   "metadata": {},
   "outputs": [],
   "source": []
  }
 ],
 "metadata": {
  "kernelspec": {
   "display_name": "Python 3 (ipykernel)",
   "language": "python",
   "name": "python3"
  },
  "language_info": {
   "codemirror_mode": {
    "name": "ipython",
    "version": 3
   },
   "file_extension": ".py",
   "mimetype": "text/x-python",
   "name": "python",
   "nbconvert_exporter": "python",
   "pygments_lexer": "ipython3",
   "version": "3.9.21"
  }
 },
 "nbformat": 4,
 "nbformat_minor": 5
}
